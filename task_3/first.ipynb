{
 "cells": [
  {
   "cell_type": "code",
   "execution_count": 2,
   "metadata": {},
   "outputs": [],
   "source": [
    "import numpy as np\n",
    "from numpy.linalg import inv\n",
    "from matplotlib import pyplot as plt\n",
    "import seaborn as sns"
   ]
  },
  {
   "cell_type": "markdown",
   "metadata": {},
   "source": [
    "# Решение СЛАУ"
   ]
  },
  {
   "cell_type": "code",
   "execution_count": 3,
   "metadata": {},
   "outputs": [
    {
     "data": {
      "text/plain": [
       "array([[ 1., -1., -1., -1.,  1.],\n",
       "       [ 0.,  1., -1., -1.,  1.],\n",
       "       [ 0.,  0.,  1., -1.,  1.],\n",
       "       [ 0.,  0.,  0.,  1.,  1.],\n",
       "       [ 0.,  0.,  0.,  0.,  1.]])"
      ]
     },
     "execution_count": 3,
     "metadata": {},
     "output_type": "execute_result"
    }
   ],
   "source": [
    "n = 5\n",
    "\n",
    "def create_matrix(n):\n",
    "    a = -1 * np.triu(np.ones(n)) + np.eye(n)*2\n",
    "    a[:, -1] *= -1\n",
    "    a[:, -1][-1] *= -1\n",
    "    return np.array(a)\n",
    "a = create_matrix(n)\n",
    "f = np.ones(n)\n",
    "a"
   ]
  },
  {
   "cell_type": "code",
   "execution_count": 4,
   "metadata": {},
   "outputs": [],
   "source": [
    "def lu(a):\n",
    "    l = np.zeros([n, n])\n",
    "    u = np.zeros([n, n])\n",
    "\n",
    "    for i in range(n):\n",
    "        for j in range(n):\n",
    "            u[0][i] = a[0][i]\n",
    "            l[i][0] = a[i][0] / u[0][0]\n",
    "            sum = 0\n",
    "            for k in range(i):\n",
    "                sum += l[i][k] * u[k][i]\n",
    "            u[i][j] = a[i][j] - sum\n",
    "            if i > j:\n",
    "                l[i][j] = 0\n",
    "            else:\n",
    "                sum = 0\n",
    "                for k in range(i):\n",
    "                    sum += l[j][k] * u[k][i]\n",
    "                l[j][i] = (a[j][i] - sum) / u[i][i]\n",
    "    return (np.array(l), np.array(u))\n"
   ]
  },
  {
   "cell_type": "code",
   "execution_count": 5,
   "metadata": {},
   "outputs": [
    {
     "data": {
      "text/plain": [
       "array([0., 0., 0., 0., 1.])"
      ]
     },
     "execution_count": 5,
     "metadata": {},
     "output_type": "execute_result"
    }
   ],
   "source": [
    "def solution(a, f):\n",
    "    l, u = lu(a)\n",
    "    y = np.zeros(n)\n",
    "    for i in range(n):\n",
    "        sum = 0\n",
    "        for k in range(i):\n",
    "            sum += l[i][k] * y[k]\n",
    "        y[i] = (f[i] - sum) / l[i][i]\n",
    "\n",
    "    x = np.zeros(n)\n",
    "    for i in range(n):\n",
    "        sum = 0\n",
    "        for k in range(i):\n",
    "            sum += u[n-i - 1][n-k - 1] * x[n-k - 1]\n",
    "        x[n-i - 1] = (f[n-i - 1] - sum) / l[n-i - 1][n-i - 1]\n",
    "\n",
    "    return x\n",
    "\n",
    "\n",
    "solution(a, f)\n"
   ]
  },
  {
   "cell_type": "markdown",
   "metadata": {},
   "source": [
    "# Расчет числа обусловленности:"
   ]
  },
  {
   "cell_type": "code",
   "execution_count": 6,
   "metadata": {},
   "outputs": [
    {
     "data": {
      "image/png": "[encoded data removed]",
      "text/plain": [
       "<Figure size 640x480 with 1 Axes>"
      ]
     },
     "metadata": {},
     "output_type": "display_data"
    }
   ],
   "source": [
    "def norm_1(a):\n",
    "    return max([sum(np.absolute(i)) for i in a.T])\n",
    "\n",
    "def norm_2(a):\n",
    "    return max([sum(np.absolute(i)) for i in a])\n",
    "\n",
    "def norm_3(a):\n",
    "    return (max(np.linalg.eig(np.dot(a, a.T))[0]))**0.5\n",
    "\n",
    "\n",
    "def plot(n=10):\n",
    "    first = [norm_1(create_matrix(i)) * norm_1(inv(create_matrix(i))) for i in range(1, n + 1)]\n",
    "    second = [norm_2(create_matrix(i)) * norm_2(inv(create_matrix(i))) for i in range(1, n + 1)]\n",
    "    third = [norm_3(create_matrix(i)) * norm_3(inv(create_matrix(i))) for i in range(1, n + 1)]\n",
    "\n",
    "\n",
    "    fig, ax = plt.subplots()\n",
    "\n",
    "    sns.set_style('darkgrid')\n",
    "\n",
    "    ax.plot([i for i in range(1, n + 1)], first, 'gD-', label='first')\n",
    "    ax.plot([i for i in range(1, n + 1)], second, 'rD-', label='second')\n",
    "    ax.plot([i for i in range(1, n + 1)], third, 'bD-', label='third')\n",
    "    ax.legend()\n",
    "plot(15)"
   ]
  }
 ],
 "metadata": {
  "kernelspec": {
   "display_name": "Python 3",
   "language": "python",
   "name": "python3"
  },
  "language_info": {
   "codemirror_mode": {
    "name": "ipython",
    "version": 3
   },
   "file_extension": ".py",
   "mimetype": "text/x-python",
   "name": "python",
   "nbconvert_exporter": "python",
   "pygments_lexer": "ipython3",
   "version": "3.10.12"
  },
  "orig_nbformat": 4
 },
 "nbformat": 4,
 "nbformat_minor": 2
}
