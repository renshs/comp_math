{
 "cells": [
  {
   "cell_type": "code",
   "execution_count": 32,
   "metadata": {},
   "outputs": [],
   "source": [
    "import numpy as np\n",
    "from matplotlib import pyplot as plt"
   ]
  },
  {
   "cell_type": "code",
   "execution_count": 97,
   "metadata": {},
   "outputs": [],
   "source": [
    "n = 5\n",
    "\n",
    "a = -1 * np.triu(np.ones(n)) + np.eye(n)*2\n",
    "a[:, -1] *= -1\n",
    "a[:, -1][-1] *= -1\n",
    "f = np.ones(n)"
   ]
  },
  {
   "cell_type": "code",
   "execution_count": 98,
   "metadata": {},
   "outputs": [],
   "source": [
    "def lu(a):\n",
    "    l = np.zeros([n, n])\n",
    "    u = np.zeros([n, n])\n",
    "\n",
    "    for i in range(n):\n",
    "        for j in range(n):\n",
    "            u[0][i] = a[0][i]\n",
    "            l[i][0] = a[i][0] / u[0][0]\n",
    "            sum = 0\n",
    "            for k in range(i):\n",
    "                sum += l[i][k] * u[k][i]\n",
    "            u[i][j] = a[i][j] - sum\n",
    "            if i > j:\n",
    "                l[i][j] = 0\n",
    "            else:\n",
    "                sum = 0\n",
    "                for k in range(i):\n",
    "                    sum += l[j][k] * u[k][i]\n",
    "                l[j][i] = (a[j][i] - sum) / u[i][i]\n",
    "    return (np.array(l), np.array(u))\n"
   ]
  },
  {
   "cell_type": "code",
   "execution_count": 99,
   "metadata": {},
   "outputs": [
    {
     "data": {
      "text/plain": [
       "array([0., 0., 0., 0., 1.])"
      ]
     },
     "execution_count": 99,
     "metadata": {},
     "output_type": "execute_result"
    }
   ],
   "source": [
    "def solution(a, f):\n",
    "    l, u = lu(a)\n",
    "    y = np.zeros(n)\n",
    "    for i in range(n):\n",
    "        sum = 0\n",
    "        for k in range(i):\n",
    "            sum += l[i][k] * y[k]\n",
    "        y[i] = (f[i] - sum) / l[i][i]\n",
    "\n",
    "    x = np.zeros(n)\n",
    "    for i in range(n):\n",
    "        sum = 0\n",
    "        for k in range(i):\n",
    "            sum += u[n-i - 1][n-k - 1] * x[n-k - 1]\n",
    "        x[n-i - 1] = (f[n-i - 1] - sum) / l[n-i - 1][n-i - 1]\n",
    "\n",
    "    return x\n",
    "\n",
    "\n",
    "solution(a, f)\n"
   ]
  }
 ],
 "metadata": {
  "kernelspec": {
   "display_name": "Python 3",
   "language": "python",
   "name": "python3"
  },
  "language_info": {
   "codemirror_mode": {
    "name": "ipython",
    "version": 3
   },
   "file_extension": ".py",
   "mimetype": "text/x-python",
   "name": "python",
   "nbconvert_exporter": "python",
   "pygments_lexer": "ipython3",
   "version": "3.10.12"
  },
  "orig_nbformat": 4
 },
 "nbformat": 4,
 "nbformat_minor": 2
}
