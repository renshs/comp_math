{
 "cells": [
  {
   "cell_type": "code",
   "execution_count": 52,
   "metadata": {},
   "outputs": [],
   "source": [
    "import numpy as np\n",
    "from numpy.linalg import inv\n",
    "from matplotlib import pyplot as plt\n",
    "import seaborn as sns\n",
    "import sympy"
   ]
  },
  {
   "cell_type": "code",
   "execution_count": 53,
   "metadata": {},
   "outputs": [],
   "source": [
    "n = 15\n",
    "b = 0.5\n",
    "err = 1e-6\n",
    "\n",
    "def create_matrix(n, b):\n",
    "    a = np.eye(n) * 2 + np.eye(n, k=1) * -1 + np.eye(n, k=1) * -b + np.eye(n, k=-1) * -1 + np.eye(n, k=-1) * b\n",
    "    return a\n",
    "\n",
    "def create_term(n):\n",
    "    f = np.zeros(n)\n",
    "    f[0] = 1 - b\n",
    "    f[n-1] = 1 + b\n",
    "    return f\n",
    "\n",
    "a = create_matrix(n, b)\n",
    "f = create_term(n)"
   ]
  },
  {
   "cell_type": "markdown",
   "metadata": {},
   "source": [
    "## Convergence check"
   ]
  },
  {
   "cell_type": "code",
   "execution_count": 54,
   "metadata": {},
   "outputs": [
    {
     "data": {
      "text/plain": [
       "True"
      ]
     },
     "execution_count": 54,
     "metadata": {},
     "output_type": "execute_result"
    }
   ],
   "source": [
    "def is_convergence(n):\n",
    "    mat = [[0 for i in range(n)] for i in range(n)]\n",
    "    x = sympy.Symbol('x')\n",
    "\n",
    "    for i in range(n):\n",
    "        for j in range(n):\n",
    "            if i == j:\n",
    "                mat[i][j] = 2 * x\n",
    "            elif i - j == 1:\n",
    "                mat[i][j] = (-1 + b) * x\n",
    "            elif j - i == 1:\n",
    "                mat[i][j] = (-1 - b)\n",
    "            else:\n",
    "                mat[i][j] = 0\n",
    "\n",
    "    mat = sympy.Matrix(mat)\n",
    "    # print(mat.det(), mat)\n",
    "\n",
    "    return max(np.roots(mat.det().as_poly().coeffs())) < 1\n",
    "is_convergence(n)"
   ]
  },
  {
   "cell_type": "code",
   "execution_count": 55,
   "metadata": {},
   "outputs": [
    {
     "data": {
      "text/plain": [
       "(array([1.        , 1.        , 1.        , 1.        , 1.        ,\n",
       "        1.        , 1.        , 1.        , 0.99999999, 0.99999997,\n",
       "        0.9999999 , 0.99999969, 0.99999909, 0.9999975 , 0.99999938]),\n",
       " 126)"
      ]
     },
     "execution_count": 55,
     "metadata": {},
     "output_type": "execute_result"
    }
   ],
   "source": [
    "def seidel(a, f):\n",
    "    err = 1e-6\n",
    "    iter = 0\n",
    "    u = np.zeros(n)\n",
    "    u_new = np.zeros(n)\n",
    "    iterations = 0\n",
    "\n",
    "    converged = False\n",
    "\n",
    "    while not converged:\n",
    "        for i in range(n):\n",
    "            sum_1 = sum([a[i][j] * u[i] for j in range(i+1, n)])\n",
    "            sum_2 = sum(a[i][j] * u_new[j] for j in range(i))\n",
    "            u_new[i] = (f[i] - sum_1 - sum_2) / a[i][i]\n",
    "        converged = sum(abs(u_new[j]-u[j]) for j in range(n)) < err\n",
    "        u = u_new.copy()\n",
    "        iterations += 1\n",
    "    return u, iterations\n",
    "seidel(a, f)"
   ]
  },
  {
   "cell_type": "markdown",
   "metadata": {},
   "source": [
    "# Визуализация"
   ]
  },
  {
   "cell_type": "code",
   "execution_count": 56,
   "metadata": {},
   "outputs": [
    {
     "data": {
      "text/plain": [
       "Text(0, 0.5, 'Iterations')"
      ]
     },
     "execution_count": 56,
     "metadata": {},
     "output_type": "execute_result"
    },
    {
     "data": {
      "image/png": "[encoded data removed]",
      "text/plain": [
       "<Figure size 640x480 with 1 Axes>"
      ]
     },
     "metadata": {},
     "output_type": "display_data"
    }
   ],
   "source": [
    "b_arr = np.arange(0.1, 1, step=0.1)\n",
    "\n",
    "a_arr = [create_matrix(15, i) for i in b_arr]\n",
    "f = create_term(15)\n",
    "\n",
    "fig, ax = plt.subplots()\n",
    "\n",
    "sns.set_style('darkgrid')\n",
    "\n",
    "iterations = [seidel(i, f)[1] for i in a_arr]\n",
    "ax.plot(b_arr, iterations,'gD-')\n",
    "ax.set_xlabel(r'$\\beta$')\n",
    "ax.set_ylabel('Iterations')"
   ]
  }
 ],
 "metadata": {
  "kernelspec": {
   "display_name": "Python 3",
   "language": "python",
   "name": "python3"
  },
  "language_info": {
   "codemirror_mode": {
    "name": "ipython",
    "version": 3
   },
   "file_extension": ".py",
   "mimetype": "text/x-python",
   "name": "python",
   "nbconvert_exporter": "python",
   "pygments_lexer": "ipython3",
   "version": "3.10.12"
  },
  "orig_nbformat": 4
 },
 "nbformat": 4,
 "nbformat_minor": 2
}
